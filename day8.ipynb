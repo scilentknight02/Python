{
 "cells": [
  {
   "cell_type": "code",
   "execution_count": 86,
   "id": "4dedc11b",
   "metadata": {},
   "outputs": [
    {
     "name": "stdout",
     "output_type": "stream",
     "text": [
      "6\n"
     ]
    }
   ],
   "source": [
    "def my_sum(*args):\n",
    "    total = 0\n",
    "    for arg in args:\n",
    "        total += arg\n",
    "    return total\n",
    "\n",
    "print(my_sum(1, 2, 3))\n",
    "\n",
    "  \n"
   ]
  },
  {
   "cell_type": "code",
   "execution_count": 91,
   "id": "1202a00b",
   "metadata": {},
   "outputs": [
    {
     "name": "stdout",
     "output_type": "stream",
     "text": [
      "science is my favorite subject\n"
     ]
    }
   ],
   "source": [
    "def kwargs(**subj):\n",
    "    print(subj['subj2'], \"is my favorite subject\")\n",
    "kwargs(subj1='math', subj2='science', subj3='history')"
   ]
  },
  {
   "cell_type": "markdown",
   "id": "23cb667b",
   "metadata": {},
   "source": [
    "# Local and Global Variables\n"
   ]
  },
  {
   "cell_type": "code",
   "execution_count": 103,
   "id": "8a2b6b84",
   "metadata": {},
   "outputs": [
    {
     "name": "stdout",
     "output_type": "stream",
     "text": [
      "N\n",
      "e\n",
      "p\n",
      "a\n",
      "l\n",
      "Nepal\n"
     ]
    }
   ],
   "source": [
    "def example(x):\n",
    "    global y\n",
    "    y = x\n",
    "    for i in x:\n",
    "        print(i)\n",
    "n = 'Nepal'\n",
    "example(n)\n",
    "print(y)"
   ]
  },
  {
   "cell_type": "code",
   "execution_count": 102,
   "id": "540c2d36",
   "metadata": {},
   "outputs": [
    {
     "name": "stdout",
     "output_type": "stream",
     "text": [
      "N\n",
      "e\n",
      "p\n",
      "a\n",
      "l\n"
     ]
    },
    {
     "ename": "NameError",
     "evalue": "name 'y' is not defined",
     "output_type": "error",
     "traceback": [
      "\u001b[31m---------------------------------------------------------------------------\u001b[39m",
      "\u001b[31mNameError\u001b[39m                                 Traceback (most recent call last)",
      "\u001b[36mCell\u001b[39m\u001b[36m \u001b[39m\u001b[32mIn[102]\u001b[39m\u001b[32m, line 8\u001b[39m\n\u001b[32m      6\u001b[39m n = \u001b[33m'\u001b[39m\u001b[33mNepal\u001b[39m\u001b[33m'\u001b[39m\n\u001b[32m      7\u001b[39m example(n)\n\u001b[32m----> \u001b[39m\u001b[32m8\u001b[39m \u001b[38;5;28mprint\u001b[39m(\u001b[43my\u001b[49m)\n",
      "\u001b[31mNameError\u001b[39m: name 'y' is not defined"
     ]
    }
   ],
   "source": [
    "def example(x):\n",
    "   \n",
    "    y = x\n",
    "    for i in x:\n",
    "        print(i)\n",
    "n = 'Nepal'\n",
    "example(n)\n",
    "print(y)"
   ]
  },
  {
   "cell_type": "code",
   "execution_count": 112,
   "id": "d14d253f",
   "metadata": {},
   "outputs": [
    {
     "name": "stdout",
     "output_type": "stream",
     "text": [
      "<function hello at 0x000001EF1C092B60>\n",
      "<function hello at 0x000001EF1C092B60>\n",
      "Heya\n"
     ]
    }
   ],
   "source": [
    "# Function as a variable example\n",
    "\n",
    "# display = print\n",
    "# display(\"Hello World\")\n",
    "\n",
    "# print(print)\n",
    "\n",
    "def hello(x):\n",
    "    print(x)\n",
    "print(hello)\n",
    "say = hello\n",
    "print(say)\n",
    "say(\"Heya\")"
   ]
  },
  {
   "cell_type": "code",
   "execution_count": 113,
   "id": "a74bca7d",
   "metadata": {},
   "outputs": [
    {
     "name": "stdout",
     "output_type": "stream",
     "text": [
      "1 3 5 7 9 "
     ]
    }
   ],
   "source": [
    "list = [1, 2, 3, 4, 5, 6, 7, 8, 9, 10]\n",
    "def odd_numbers(list):\n",
    "    for i in list:\n",
    "        if i % 2 != 0:\n",
    "            print(i, end=' ')\n",
    "odd_numbers(list)"
   ]
  },
  {
   "cell_type": "code",
   "execution_count": 117,
   "id": "b37fc617",
   "metadata": {},
   "outputs": [
    {
     "name": "stdout",
     "output_type": "stream",
     "text": [
      "[10, 9, 8, 5, 3, 1]\n"
     ]
    }
   ],
   "source": [
    "list = [5, 10, 9, 1, 8, 3]\n",
    "def sort_list(list):\n",
    "    list.sort(reverse=True)\n",
    "    print(list)\n",
    "sort_list(list)\n"
   ]
  },
  {
   "cell_type": "code",
   "execution_count": 118,
   "id": "a943fbeb",
   "metadata": {},
   "outputs": [
    {
     "name": "stdout",
     "output_type": "stream",
     "text": [
      "[10, 9, 8, 5, 3, 1]\n"
     ]
    }
   ],
   "source": [
    "# uaing sorted method\n",
    "list = [5, 10, 9, 1, 8, 3]\n",
    "def sort_list(list):\n",
    "    list = sorted(list, reverse=True)\n",
    "    print(list)\n",
    "sort_list(list)"
   ]
  },
  {
   "cell_type": "code",
   "execution_count": 122,
   "id": "56850609",
   "metadata": {},
   "outputs": [
    {
     "name": "stdout",
     "output_type": "stream",
     "text": [
      "('Ramesh', 'Ramesh@123')\n",
      "('Suresh', 'Suresh@123')\n"
     ]
    }
   ],
   "source": [
    "# Zip function example\n",
    "username = ['Ramesh', 'Suresh']\n",
    "password = ['Ramesh@123', 'Suresh@123']\n",
    "users = zip(username, password)\n",
    "for i in users:\n",
    "    print(i)"
   ]
  }
 ],
 "metadata": {
  "kernelspec": {
   "display_name": ".venv",
   "language": "python",
   "name": "python3"
  },
  "language_info": {
   "codemirror_mode": {
    "name": "ipython",
    "version": 3
   },
   "file_extension": ".py",
   "mimetype": "text/x-python",
   "name": "python",
   "nbconvert_exporter": "python",
   "pygments_lexer": "ipython3",
   "version": "3.13.2"
  }
 },
 "nbformat": 4,
 "nbformat_minor": 5
}
