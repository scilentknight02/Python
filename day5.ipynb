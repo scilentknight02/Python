{
 "cells": [
  {
   "cell_type": "markdown",
   "metadata": {},
   "source": [
    "# List"
   ]
  },
  {
   "cell_type": "code",
   "execution_count": 2,
   "metadata": {},
   "outputs": [
    {
     "name": "stdout",
     "output_type": "stream",
     "text": [
      "[1, 2, 3, 4, 5]\n",
      "<class 'list'>\n"
     ]
    }
   ],
   "source": [
    "my_list = [1, 2, 3, 4, 5]\n",
    "print(my_list)\n",
    "print(type(my_list))"
   ]
  },
  {
   "cell_type": "code",
   "execution_count": 7,
   "metadata": {},
   "outputs": [
    {
     "name": "stdout",
     "output_type": "stream",
     "text": [
      "\n",
      "Code\n",
      "Studies\n",
      "7\n",
      "['ML', 'Students', 'Studies', 'Java', 'Python']\n",
      "['Code', 'Favtutor', 'ML', 'Students']\n",
      "['Code', 'Favtutor', 'ML', 'Students', 'Studies', 'Java']\n",
      "\n",
      "After change Ml into Machine Learning\n",
      "Machine Learning\n",
      "['Code', 'Favtutor', 'Machine Learning', 'Students', 'Studies', 'Java', 'Python']\n",
      "\n"
     ]
    }
   ],
   "source": [
    "my_list = ['Code', 'Favtutor', 'ML', 'Students', 'Studies', 'Java', 'Python']\n",
    "# print(my_list)\n",
    "print()\n",
    "print(my_list[0])\n",
    "print(my_list[-3])\n",
    "print(len(my_list))\n",
    "print(my_list[2:])\n",
    "print(my_list[0:4])\n",
    "print(my_list[-7:-1])\n",
    "print()\n",
    "print(\"After change Ml into Machine Learning\")\n",
    "my_list[2] = 'Machine Learning'\n",
    "print(my_list[2])\n",
    "print(my_list)\n"
   ]
  },
  {
   "cell_type": "code",
   "execution_count": 20,
   "metadata": {},
   "outputs": [
    {
     "name": "stdout",
     "output_type": "stream",
     "text": [
      "[1, 'Ram', 3, True]\n",
      "False\n",
      "[1, 'Ram', 3, True, 'Python']\n"
     ]
    }
   ],
   "source": [
    "my_list = [1, 'Ram', 3, True]\n",
    "print(my_list)\n",
    "print('Python' in my_list)\n",
    "my_list.append('Python')\n",
    "print(my_list)\n"
   ]
  },
  {
   "cell_type": "code",
   "execution_count": 46,
   "metadata": {},
   "outputs": [
    {
     "name": "stdout",
     "output_type": "stream",
     "text": [
      "[1, 3, 4, 5, 2]\n"
     ]
    }
   ],
   "source": [
    "a = [1, 2, 3, 4, 5, 2]\n",
    "# print(a * 3)\n",
    "# a.pop()\n",
    "# print(a)\n",
    "# a.pop()\n",
    "# print(a)\n",
    "a.remove(2)\n",
    "print(a)\n",
    "# print(a)\n",
    "# a.clear()"
   ]
  },
  {
   "cell_type": "code",
   "execution_count": 48,
   "metadata": {},
   "outputs": [
    {
     "name": "stdout",
     "output_type": "stream",
     "text": [
      "[1, 3, 4, 5, 2]\n"
     ]
    }
   ],
   "source": [
    "print(a)"
   ]
  },
  {
   "cell_type": "code",
   "execution_count": 56,
   "metadata": {},
   "outputs": [
    {
     "name": "stdout",
     "output_type": "stream",
     "text": [
      "['CSIT', 'BE']\n"
     ]
    }
   ],
   "source": [
    "b = ['BCA', 'CSIT', 'BE']\n",
    "# b.remove('CSIT') //remove by value\n",
    "# print(b)\n",
    "# b.remove(b[1]) //remove by index\n",
    "# print(b)\n",
    "del b[0]\n",
    "print(b)"
   ]
  },
  {
   "cell_type": "code",
   "execution_count": 73,
   "metadata": {},
   "outputs": [
    {
     "name": "stdout",
     "output_type": "stream",
     "text": [
      "\n",
      "7\n",
      "9\n",
      "11\n",
      "13\n",
      "15\n"
     ]
    }
   ],
   "source": [
    "a  = [1, 2, 3, 4, 5]\n",
    "b = [6, 7, 8, 9, 10]\n",
    "print()\n",
    "for i in range(5):\n",
    "    print(a[i] + b[i])\n",
    "    # or\n",
    "    # c[i] = a[i] + b[i]\n",
    "    # print(c)\n",
    "\n"
   ]
  },
  {
   "cell_type": "markdown",
   "metadata": {},
   "source": [
    "# Adding number 6 between two index\n"
   ]
  },
  {
   "cell_type": "code",
   "execution_count": 75,
   "metadata": {},
   "outputs": [
    {
     "name": "stdout",
     "output_type": "stream",
     "text": [
      "[1, 2, 3, 6, 4, 5]\n"
     ]
    }
   ],
   "source": [
    "a = [1, 2, 3, 4, 5]\n",
    "a.insert(3,6) # insert 6 at index 3\n",
    "print(a)"
   ]
  },
  {
   "cell_type": "code",
   "execution_count": 78,
   "metadata": {},
   "outputs": [
    {
     "name": "stdout",
     "output_type": "stream",
     "text": [
      "[5, 4, 3, 2, 1]\n"
     ]
    }
   ],
   "source": [
    "#Reverse\n",
    "a = [1, 2, 3, 4, 5]\n",
    "a.reverse()\n",
    "print(a)"
   ]
  },
  {
   "cell_type": "code",
   "execution_count": 81,
   "metadata": {},
   "outputs": [
    {
     "name": "stdout",
     "output_type": "stream",
     "text": [
      "[1, 2, 3, 4, 5]\n"
     ]
    }
   ],
   "source": [
    "x = [1, 2, 3, 4, 5]\n",
    "y = x.copy()\n",
    "print(y)"
   ]
  },
  {
   "cell_type": "markdown",
   "metadata": {},
   "source": [
    "# Sort\n"
   ]
  },
  {
   "cell_type": "code",
   "execution_count": 84,
   "metadata": {},
   "outputs": [
    {
     "name": "stdout",
     "output_type": "stream",
     "text": [
      "['BCA', 'BE', 'CSIT']\n"
     ]
    }
   ],
   "source": [
    "b = ['BCA', 'CSIT', 'BE']\n",
    "b.sort()\n",
    "print(b)"
   ]
  },
  {
   "cell_type": "markdown",
   "metadata": {},
   "source": [
    "# Reverse Sort"
   ]
  },
  {
   "cell_type": "code",
   "execution_count": 85,
   "metadata": {},
   "outputs": [
    {
     "name": "stdout",
     "output_type": "stream",
     "text": [
      "['CSIT', 'BE', 'BCA']\n"
     ]
    }
   ],
   "source": [
    "b = ['BCA', 'CSIT', 'BE']\n",
    "b.sort(reverse=True)\n",
    "print(b)"
   ]
  },
  {
   "cell_type": "markdown",
   "metadata": {},
   "source": [
    "# Reverse sorting of mix uppercase and lowercase"
   ]
  },
  {
   "cell_type": "code",
   "execution_count": 93,
   "metadata": {},
   "outputs": [
    {
     "name": "stdout",
     "output_type": "stream",
     "text": [
      "['A', 'C', 'E', 'b', 'd']\n"
     ]
    }
   ],
   "source": [
    "b = ['A', 'b', 'C', 'd', 'E']\n",
    "b.sort()     # Sorts by following ascii value\n",
    "print(b)"
   ]
  },
  {
   "cell_type": "markdown",
   "metadata": {},
   "source": [
    "# Two Dimention Array"
   ]
  },
  {
   "cell_type": "code",
   "execution_count": null,
   "metadata": {},
   "outputs": [
    {
     "name": "stdout",
     "output_type": "stream",
     "text": [
      "[[1, 2, 3], [4, 5, 6], [7, 8, 9]]\n"
     ]
    }
   ],
   "source": [
    "twoD_list = [[1, 2, 3], [4, 5, 6], [7, 8, 9]]\n",
    "print(twoD_list)"
   ]
  }
 ],
 "metadata": {
  "kernelspec": {
   "display_name": ".venv",
   "language": "python",
   "name": "python3"
  },
  "language_info": {
   "codemirror_mode": {
    "name": "ipython",
    "version": 3
   },
   "file_extension": ".py",
   "mimetype": "text/x-python",
   "name": "python",
   "nbconvert_exporter": "python",
   "pygments_lexer": "ipython3",
   "version": "3.13.2"
  }
 },
 "nbformat": 4,
 "nbformat_minor": 2
}
