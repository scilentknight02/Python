{
 "cells": [
  {
   "cell_type": "markdown",
   "id": "75a00b40",
   "metadata": {},
   "source": [
    "# Exception Handling in Python"
   ]
  },
  {
   "cell_type": "code",
   "execution_count": 4,
   "id": "6f9d1360",
   "metadata": {},
   "outputs": [
    {
     "name": "stdout",
     "output_type": "stream",
     "text": [
      "variable not defined\n"
     ]
    }
   ],
   "source": [
    "# exception Handling in Python\n",
    "\n",
    "try:\n",
    "    print(x)\n",
    "except:\n",
    "    print('variable not defined')"
   ]
  },
  {
   "cell_type": "code",
   "execution_count": 7,
   "id": "c7b5487b",
   "metadata": {},
   "outputs": [
    {
     "name": "stdout",
     "output_type": "stream",
     "text": [
      "variable not defined\n",
      "This will always execute\n"
     ]
    }
   ],
   "source": [
    "try:\n",
    "    print(x)\n",
    "except NameError:\n",
    "    print('variable not defined')\n",
    "else:\n",
    "    print('Something went wrong')\n",
    "finally:\n",
    "    print('This will always execute')"
   ]
  },
  {
   "cell_type": "code",
   "execution_count": 12,
   "id": "437d574b",
   "metadata": {},
   "outputs": [
    {
     "name": "stdout",
     "output_type": "stream",
     "text": [
      "You cannot divide by zero\n",
      "Execution completed\n"
     ]
    }
   ],
   "source": [
    "num1 = int(input('Enter first number: '))\n",
    "num2 = int(input('Enter second number: '))\n",
    "try:\n",
    "    result = num1 / num2\n",
    "except ZeroDivisionError:\n",
    "    print('You cannot divide by zero')\n",
    "else:\n",
    "    print('The result is:', result)\n",
    "finally:    \n",
    "    print('Execution completed')"
   ]
  },
  {
   "cell_type": "markdown",
   "id": "46711110",
   "metadata": {},
   "source": [
    "# Join Methods in Python"
   ]
  },
  {
   "cell_type": "code",
   "execution_count": 17,
   "id": "7c85d652",
   "metadata": {},
   "outputs": [
    {
     "name": "stdout",
     "output_type": "stream",
     "text": [
      "helloworld\n",
      "Concatenation successful: helloworld\n",
      "Execution completed for string concatenation example\n"
     ]
    }
   ],
   "source": [
    "a = \"hello\"\n",
    "b = \"world\"\n",
    "try:\n",
    "    print(a + b)\n",
    "except TypeError:\n",
    "    print('Cannot concatenate strings with non-string types')\n",
    "\n",
    "else:\n",
    "    print('Concatenation successful:', a + b)\n",
    "finally:\n",
    "    print('Execution completed for string concatenation example')"
   ]
  },
  {
   "cell_type": "code",
   "execution_count": 20,
   "id": "4ee3e12a",
   "metadata": {},
   "outputs": [
    {
     "name": "stdout",
     "output_type": "stream",
     "text": [
      "Shivaraj and Rajan and Yogesh\n"
     ]
    }
   ],
   "source": [
    "my_list = ['Shivaraj', 'Rajan', 'Yogesh']\n",
    "final = \" and \".join(my_list)\n",
    "print(final)"
   ]
  },
  {
   "cell_type": "markdown",
   "id": "da8dabcc",
   "metadata": {},
   "source": [
    "# List Comprenhension"
   ]
  },
  {
   "cell_type": "code",
   "execution_count": 21,
   "id": "884ffe13",
   "metadata": {},
   "outputs": [
    {
     "name": "stdout",
     "output_type": "stream",
     "text": [
      "[2, 4]\n"
     ]
    }
   ],
   "source": [
    "list = [1, 2, 3, 4, 5]\n",
    "list2 = [i for i in list if i % 2 == 0]\n",
    "print(list2)"
   ]
  },
  {
   "cell_type": "code",
   "execution_count": 28,
   "id": "46218a8b",
   "metadata": {},
   "outputs": [
    {
     "ename": "ZeroDivisionError",
     "evalue": "division by zero",
     "output_type": "error",
     "traceback": [
      "\u001b[31m---------------------------------------------------------------------------\u001b[39m",
      "\u001b[31mZeroDivisionError\u001b[39m                         Traceback (most recent call last)",
      "\u001b[36mCell\u001b[39m\u001b[36m \u001b[39m\u001b[32mIn[28]\u001b[39m\u001b[32m, line 4\u001b[39m\n\u001b[32m      2\u001b[39m b = \u001b[32m0\u001b[39m\n\u001b[32m      3\u001b[39m \u001b[38;5;28;01mif\u001b[39;00m b == \u001b[32m0\u001b[39m:\n\u001b[32m----> \u001b[39m\u001b[32m4\u001b[39m     \u001b[38;5;28;01mraise\u001b[39;00m \u001b[38;5;167;01mZeroDivisionError\u001b[39;00m(\u001b[33m'\u001b[39m\u001b[33mdivision by zero\u001b[39m\u001b[33m'\u001b[39m)\n\u001b[32m      5\u001b[39m \u001b[38;5;28;01melse\u001b[39;00m:\n\u001b[32m      6\u001b[39m         \u001b[38;5;28mprint\u001b[39m(a / b)\n",
      "\u001b[31mZeroDivisionError\u001b[39m: division by zero"
     ]
    }
   ],
   "source": [
    "a = 5\n",
    "b = 0\n",
    "if b == 0:\n",
    "    raise ZeroDivisionError('division by zero')\n",
    "else:\n",
    "        print(a / b)\n"
   ]
  }
 ],
 "metadata": {
  "kernelspec": {
   "display_name": ".venv",
   "language": "python",
   "name": "python3"
  },
  "language_info": {
   "codemirror_mode": {
    "name": "ipython",
    "version": 3
   },
   "file_extension": ".py",
   "mimetype": "text/x-python",
   "name": "python",
   "nbconvert_exporter": "python",
   "pygments_lexer": "ipython3",
   "version": "3.13.2"
  }
 },
 "nbformat": 4,
 "nbformat_minor": 5
}
