{
 "cells": [
  {
   "cell_type": "markdown",
   "id": "38d162a6",
   "metadata": {},
   "source": [
    "# Inheritance"
   ]
  },
  {
   "cell_type": "code",
   "execution_count": null,
   "id": "7398636f",
   "metadata": {},
   "outputs": [
    {
     "name": "stdout",
     "output_type": "stream",
     "text": [
      "prakash 50000 Python\n"
     ]
    }
   ],
   "source": [
    "class Employee:\n",
    "    def __init__(self, name, salary):\n",
    "        self.name = name\n",
    "        self.salary = salary\n",
    "\n",
    "class Programmer(Employee):\n",
    "    def __init__(self, name, salary, language):\n",
    "        super().__init__(name, salary)\n",
    "        self.language = language\n",
    "\n",
    "pro = Programmer(\"Prakash\", 50000, \"Python\")\n",
    "print(pro.name, pro.salary, pro.language)"
   ]
  },
  {
   "cell_type": "markdown",
   "id": "369ccecf",
   "metadata": {},
   "source": [
    "# Getters and Setters"
   ]
  },
  {
   "cell_type": "code",
   "execution_count": 40,
   "id": "725e8f78",
   "metadata": {},
   "outputs": [
    {
     "name": "stdout",
     "output_type": "stream",
     "text": [
      "Setter method called\n",
      "getter method called\n",
      "22\n"
     ]
    }
   ],
   "source": [
    "class Person:\n",
    "    def __init__(self):\n",
    "        self.__age = 0\n",
    "        # a getter function\n",
    "    @property\n",
    "    def age(self):\n",
    "        print(\"getter method called\")\n",
    "        return self.__age\n",
    "        # a setter function\n",
    "    @age.setter\n",
    "    def age(self, a):\n",
    "        if(a < 18):\n",
    "            raise ValueError(\"Sorry your age is below eligibility criteria\")\n",
    "        print(\"Setter method called\")\n",
    "        self.__age = a\n",
    "Hari = Person()\n",
    "Hari.age = 22\n",
    "print(Hari.age)"
   ]
  },
  {
   "cell_type": "markdown",
   "id": "82341cce",
   "metadata": {},
   "source": [
    "# Operator Overloading"
   ]
  },
  {
   "cell_type": "code",
   "execution_count": null,
   "id": "c77a2fcc",
   "metadata": {},
   "outputs": [
    {
     "name": "stdout",
     "output_type": "stream",
     "text": [
      "(-1, -1)\n"
     ]
    }
   ],
   "source": [
    "class Point:\n",
    "    def __init__(self, x=0, y=0):\n",
    "        self.x = x\n",
    "        self.y = y\n",
    "    def __add__(self,other):\n",
    "        x = self.x - other.x\n",
    "        y = self.y - other.y\n",
    "        return Point(x,y)\n",
    "p1 = Point(1,2)\n",
    "p2 = Point(2,3)\n",
    "p3 = p1 + p2\n",
    "print((p3.x, p3.y))"
   ]
  },
  {
   "cell_type": "code",
   "execution_count": null,
   "id": "9964b82c",
   "metadata": {},
   "outputs": [
    {
     "name": "stdout",
     "output_type": "stream",
     "text": [
      "Buddy says: Woof woof!\n"
     ]
    }
   ],
   "source": [
    "# create a class 'Pets' from a class 'Animals' and further create a class 'Dog' from 'Pets'. Add a method 'bark' to class 'Dog'.\n",
    "# Base class\n",
    "class Animals:\n",
    "    def __init__(self, name):\n",
    "        self.name = name\n",
    "\n",
    "# Derived class from Animals\n",
    "class Pets(Animals):\n",
    "    def __init__(self, name, owner):\n",
    "        super().__init__(name)\n",
    "        self.owner = owner\n",
    "\n",
    "# Further derived class from Pets\n",
    "class Dog(Pets):\n",
    "    def __init__(self, name, owner, breed):\n",
    "        super().__init__(name, owner)\n",
    "        self.breed = breed\n",
    "    \n",
    "    # Method specific to Dog\n",
    "    def bark(self):\n",
    "        return f\"{self.name} says: Woof woof!\"\n",
    "\n",
    "my_dog = Dog(\"Buddy\", \"Alice\", \"Golden Retriever\")\n",
    "print(my_dog.bark())  \n"
   ]
  },
  {
   "cell_type": "code",
   "execution_count": 46,
   "id": "c129a4eb",
   "metadata": {},
   "outputs": [
    {
     "name": "stdout",
     "output_type": "stream",
     "text": [
      "I am a person\n",
      "I am an employee\n",
      "I am a manager\n"
     ]
    }
   ],
   "source": [
    "# Create a class Person with a method info(). Create a derived classw Employee that overrides info() and uses super(). \n",
    "# Create another class Manager from  Employee that also overrides info() and calls super().info().\n",
    "class Person:\n",
    "    def info(self):\n",
    "        print(\"I am a person\")\n",
    "\n",
    "class Employee(Person):\n",
    "    def info(self):\n",
    "        super().info()\n",
    "        print(\"I am an employee\") \n",
    "\n",
    "class Manager(Employee):\n",
    "    def info(self):\n",
    "        super().info()\n",
    "        print(\"I am a manager\")\n",
    "\n",
    "mgr = Manager()\n",
    "mgr.info()\n"
   ]
  }
 ],
 "metadata": {
  "kernelspec": {
   "display_name": ".venv",
   "language": "python",
   "name": "python3"
  },
  "language_info": {
   "codemirror_mode": {
    "name": "ipython",
    "version": 3
   },
   "file_extension": ".py",
   "mimetype": "text/x-python",
   "name": "python",
   "nbconvert_exporter": "python",
   "pygments_lexer": "ipython3",
   "version": "3.13.2"
  }
 },
 "nbformat": 4,
 "nbformat_minor": 5
}
