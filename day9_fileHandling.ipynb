{
 "cells": [
  {
   "cell_type": "code",
   "execution_count": 2,
   "id": "fbf83563",
   "metadata": {},
   "outputs": [
    {
     "name": "stdout",
     "output_type": "stream",
     "text": [
      "file not found!\n"
     ]
    }
   ],
   "source": [
    "file = open(\"file.txt\")\n",
    "try:\n",
    "    file = open(\"file2.txt\")\n",
    "except FileNotFoundError:\n",
    "    print(\"file not found!\")\n",
    "\n"
   ]
  },
  {
   "cell_type": "code",
   "execution_count": 2,
   "id": "2089e80d",
   "metadata": {},
   "outputs": [
    {
     "name": "stdout",
     "output_type": "stream",
     "text": [
      "This is BCA 5th semester\n",
      "This is BCA\n",
      "This is BCAThis is BCA\n"
     ]
    }
   ],
   "source": [
    "f = open(\"file.txt\")\n",
    "text = f.read()\n",
    "print(text)\n",
    "f.close()"
   ]
  },
  {
   "cell_type": "code",
   "execution_count": null,
   "id": "a3061742",
   "metadata": {},
   "outputs": [],
   "source": [
    "f = open(\"file.txt\", \"w\")\n",
    "f.write(\"This is BCA 5th semester\")\n",
    "f.close()"
   ]
  },
  {
   "cell_type": "code",
   "execution_count": null,
   "id": "cbb1b165",
   "metadata": {},
   "outputs": [],
   "source": [
    "f = open(\"file.txt\", \"a\")\n",
    "f.write(\"\\nThis is BCA\")\n",
    "f.close()"
   ]
  },
  {
   "cell_type": "code",
   "execution_count": null,
   "id": "1135449e",
   "metadata": {},
   "outputs": [
    {
     "name": "stdout",
     "output_type": "stream",
     "text": [
      "['This is BCA 5th semester\\n', 'This is BCA\\n', 'This is BCAThis is BCA']\n"
     ]
    }
   ],
   "source": [
    "f = open(\"file.txt\", \"r\")\n",
    "text = f.readlines()\n",
    "print(text)\n",
    "f.close()"
   ]
  },
  {
   "cell_type": "code",
   "execution_count": 3,
   "id": "04782317",
   "metadata": {},
   "outputs": [
    {
     "name": "stdout",
     "output_type": "stream",
     "text": [
      "this is scam!\n"
     ]
    }
   ],
   "source": [
    "spam_keywords = [\"spam\", \"eggs\", \"money\", \"lottery\", \"prize\"]\n",
    "f = open(\"spam.txt\")\n",
    "text = f.readlines()\n",
    "scam = False\n",
    "for spm in spam_keywords:\n",
    "    if(spm in text):\n",
    "        scam = True\n",
    "if(scam):\n",
    "    print(\"this is scam!\")\n",
    "else:\n",
    "    print(\"This is not scam\")\n",
    "f.close()\n"
   ]
  },
  {
   "cell_type": "code",
   "execution_count": null,
   "id": "a37a2b4b",
   "metadata": {},
   "outputs": [],
   "source": [
    "# WAP to create a program that lets you to add the contact information (Name phone_number and email) of user in a file named phonebook.txt\n",
    "f = open(\"phonebook.txt\", \"a\")\n",
    "name = input(\"Enater your name: \")\n",
    "phone = input(\"Enter your phone number: \")\n",
    "email = input(\"Enter your email: \")\n",
    "f.write(f\"Name: {name}\\nPhone: {phone}\\nEmail: {email}\\n\")\n",
    "f.close()\n"
   ]
  },
  {
   "cell_type": "code",
   "execution_count": 10,
   "id": "a407ca11",
   "metadata": {},
   "outputs": [
    {
     "name": "stdout",
     "output_type": "stream",
     "text": [
      "This is BCA 5th semester\n",
      "This is BCA\n",
      "This is BCAThis is BCA\n",
      "\n",
      "Name: prakash\n",
      "Phone: 9861252006\n",
      "Email: scilentknight512@gmail.com\n",
      "\n"
     ]
    }
   ],
   "source": [
    "with open(\"file.txt\", \"r\") as f:\n",
    "    print(f.read())\n",
    "    with open(\"phonebook.txt\", \"r\") as f:\n",
    "        print()\n",
    "        print(f.read())"
   ]
  }
 ],
 "metadata": {
  "kernelspec": {
   "display_name": ".venv",
   "language": "python",
   "name": "python3"
  },
  "language_info": {
   "codemirror_mode": {
    "name": "ipython",
    "version": 3
   },
   "file_extension": ".py",
   "mimetype": "text/x-python",
   "name": "python",
   "nbconvert_exporter": "python",
   "pygments_lexer": "ipython3",
   "version": "3.13.2"
  }
 },
 "nbformat": 4,
 "nbformat_minor": 5
}
