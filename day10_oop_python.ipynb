{
 "cells": [
  {
   "cell_type": "markdown",
   "id": "8a0e1a7a",
   "metadata": {},
   "source": [
    "# Object Oriented Programming"
   ]
  },
  {
   "cell_type": "markdown",
   "id": "edad505a",
   "metadata": {},
   "source": [
    "### Pillers of OOP\n",
    "\n",
    "Encapsulation\n",
    "Inheritance\n",
    "Polymorphism\n",
    "Abstraction"
   ]
  },
  {
   "cell_type": "markdown",
   "id": "9d5c52b1",
   "metadata": {},
   "source": []
  },
  {
   "cell_type": "code",
   "execution_count": 20,
   "id": "4a06c411",
   "metadata": {},
   "outputs": [
    {
     "name": "stdout",
     "output_type": "stream",
     "text": [
      "Prakash\n",
      "50\n"
     ]
    }
   ],
   "source": [
    "class Employee:\n",
    "    def __init__(self, name, salary):\n",
    "        self.name = name\n",
    "        self.salary = salary\n",
    "\n",
    "salary = input(\"Enter the salary: \")\n",
    "prakash = Employee(\"Prakash\", salary)\n",
    "print(prakash.name)\n",
    "print(prakash.salary)\n",
    "\n",
    "\n",
    "\n",
    "\n"
   ]
  },
  {
   "cell_type": "code",
   "execution_count": null,
   "id": "eebdefb8",
   "metadata": {},
   "outputs": [],
   "source": [
    "class Person:\n",
    "    def __init__(self, name, age):\n",
    "        self.name = name \n",
    "        self.age = age\n",
    "    def myfunc(self):\n",
    "        print(\"Hello my name is \" + self.name)\n",
    "\n",
    "p1 = Person(\"John\", 36)\n",
    "p1.myfunc()"
   ]
  },
  {
   "cell_type": "code",
   "execution_count": 32,
   "id": "7dc59a11",
   "metadata": {},
   "outputs": [
    {
     "name": "stdout",
     "output_type": "stream",
     "text": [
      "My name is Abiral and my roll no is 12.\n"
     ]
    }
   ],
   "source": [
    "class Classroom:\n",
    "    def __init__(self, name, roll):\n",
    "        self.name = name \n",
    "        self.roll = roll\n",
    "    def myfunc(self):\n",
    "        print(f\"My name is {self.name} and my roll no is {self.roll}.\")\n",
    "name = input(\"Enter your name: \")\n",
    "roll = input(\"Enter your roll: \")\n",
    "p1 = Classroom(name, roll)\n",
    "p1.myfunc()"
   ]
  },
  {
   "cell_type": "code",
   "execution_count": 71,
   "id": "c3e40ddf",
   "metadata": {},
   "outputs": [
    {
     "name": "stdout",
     "output_type": "stream",
     "text": [
      "Hello user\n",
      "Hi\n"
     ]
    }
   ],
   "source": [
    "class Classroom:\n",
    "    @staticmethod\n",
    "    def greet():\n",
    "        print(\"Hello user\")\n",
    "\n",
    "    @classmethod\n",
    "    def farewell(cls):\n",
    "        print(\"Hi\")\n",
    "# p1 = Classroom()\n",
    "# p1.greet()\n",
    "# or\n",
    "Classroom.greet()\n",
    "p1 = Classroom()\n",
    "# p1.farewell()\n",
    "Classroom.farewell()"
   ]
  },
  {
   "cell_type": "code",
   "execution_count": 34,
   "id": "57df8f26",
   "metadata": {},
   "outputs": [
    {
     "name": "stdout",
     "output_type": "stream",
     "text": [
      "Hello user\n"
     ]
    }
   ],
   "source": [
    "def greet():\n",
    "    print(\"Hello user\")\n",
    "greet()"
   ]
  },
  {
   "cell_type": "markdown",
   "id": "234e8509",
   "metadata": {},
   "source": [
    "# Decorators"
   ]
  },
  {
   "cell_type": "code",
   "execution_count": 60,
   "id": "69f2116d",
   "metadata": {},
   "outputs": [
    {
     "name": "stdout",
     "output_type": "stream",
     "text": [
      "Executing function...\n",
      "Hello, world!\n",
      "Function Executed.\n"
     ]
    }
   ],
   "source": [
    "def decorator(func):\n",
    "    def wrapper():\n",
    "        print(\"Executing function...\")\n",
    "        func()\n",
    "        print(\"Function Executed.\")\n",
    "    return wrapper\n",
    "\n",
    "@decorator\n",
    "def greet():\n",
    "    print(\"Hello, world!\")\n",
    "\n",
    "greet()\n"
   ]
  },
  {
   "cell_type": "code",
   "execution_count": 70,
   "id": "6ffcb016",
   "metadata": {},
   "outputs": [
    {
     "name": "stdout",
     "output_type": "stream",
     "text": [
      "HI\n"
     ]
    }
   ],
   "source": [
    "class Emp:\n",
    "    @classmethod\n",
    "    def farewell(c):\n",
    "        print(\"HI\")\n",
    "\n",
    "p1 = Emp()\n",
    "p1.farewell()\n",
    "# Emp.farewell()"
   ]
  },
  {
   "cell_type": "markdown",
   "id": "befaefbf",
   "metadata": {},
   "source": [
    "# Class Assignment"
   ]
  },
  {
   "cell_type": "code",
   "execution_count": 72,
   "id": "bd0f155e",
   "metadata": {},
   "outputs": [
    {
     "name": "stdout",
     "output_type": "stream",
     "text": [
      "Square: 81\n",
      "Cube: 729\n",
      "Square Root: 3.0\n"
     ]
    }
   ],
   "source": [
    "# Write a class \"Calculator\" capable of finding square, cube, and square root of a number.\n",
    "import math\n",
    "\n",
    "class Calculator:\n",
    "    def __init__(self, number):\n",
    "        self.number = number\n",
    "\n",
    "    def square(self):\n",
    "        return self.number ** 2\n",
    "\n",
    "    def cube(self):\n",
    "        return self.number ** 3\n",
    "\n",
    "    def square_root(self):\n",
    "        return math.sqrt(self.number)\n",
    "\n",
    "calc = Calculator(9)\n",
    "print(\"Square:\", calc.square())        \n",
    "print(\"Cube:\", calc.cube())             \n",
    "print(\"Square Root:\", calc.square_root())"
   ]
  },
  {
   "cell_type": "code",
   "execution_count": 76,
   "id": "ad0e8562",
   "metadata": {},
   "outputs": [
    {
     "name": "stdout",
     "output_type": "stream",
     "text": [
      "hell user\n"
     ]
    }
   ],
   "source": [
    "# Add a static method in problem 1, to greet the user with hello\n",
    "class Static:\n",
    "    @staticmethod\n",
    "    def greet():\n",
    "        print(\"hell user\")\n",
    "p1 = Static()\n",
    "p1.greet()"
   ]
  },
  {
   "cell_type": "code",
   "execution_count": 82,
   "id": "14299967",
   "metadata": {},
   "outputs": [
    {
     "name": "stdout",
     "output_type": "stream",
     "text": [
      "0\n",
      "2\n"
     ]
    }
   ],
   "source": [
    "# Create a class with a class attribute zero, create an object from it and set \"zero\" directly using \"object.zero=0\". Does this change the class attribute?\n",
    "class Clas:\n",
    "    zero = 2\n",
    "p1 =  Clas()\n",
    "p1.zero = 0\n",
    "print(p1.zero)\n",
    "print(Clas.zero)"
   ]
  }
 ],
 "metadata": {
  "kernelspec": {
   "display_name": ".venv",
   "language": "python",
   "name": "python3"
  },
  "language_info": {
   "codemirror_mode": {
    "name": "ipython",
    "version": 3
   },
   "file_extension": ".py",
   "mimetype": "text/x-python",
   "name": "python",
   "nbconvert_exporter": "python",
   "pygments_lexer": "ipython3",
   "version": "3.13.2"
  }
 },
 "nbformat": 4,
 "nbformat_minor": 5
}
