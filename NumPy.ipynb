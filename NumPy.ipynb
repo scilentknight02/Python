{
 "cells": [
  {
   "cell_type": "markdown",
   "id": "efda4844",
   "metadata": {},
   "source": [
    "# Introduction to NumPy\n",
    "## What we will cover?\n",
    "* 1 creating single dimentional arrays\n",
    "* 2 multidimentional array\n",
    "* 3 randomly generated arrays\n",
    "* 4 element wise operation\n",
    "* 5 sumarizing operations"
   ]
  },
  {
   "cell_type": "code",
   "execution_count": 4,
   "id": "afc962ed",
   "metadata": {},
   "outputs": [],
   "source": [
    "# Single Dimentional array\n",
    "import numpy as np"
   ]
  },
  {
   "cell_type": "code",
   "execution_count": 5,
   "id": "08a7ffc2",
   "metadata": {},
   "outputs": [
    {
     "data": {
      "text/plain": [
       "array([0., 0., 0., 0., 0., 0., 0., 0., 0., 0.])"
      ]
     },
     "execution_count": 5,
     "metadata": {},
     "output_type": "execute_result"
    }
   ],
   "source": [
    "# Create an array with all the elements to be zero\n",
    "\n",
    "np.zeros(10)"
   ]
  },
  {
   "cell_type": "code",
   "execution_count": 6,
   "id": "8e9d1281",
   "metadata": {},
   "outputs": [
    {
     "data": {
      "text/plain": [
       "array([1., 1., 1., 1., 1.])"
      ]
     },
     "execution_count": 6,
     "metadata": {},
     "output_type": "execute_result"
    }
   ],
   "source": [
    "np.ones(5)"
   ]
  },
  {
   "cell_type": "code",
   "execution_count": 13,
   "id": "e39c1145",
   "metadata": {},
   "outputs": [
    {
     "data": {
      "text/plain": [
       "array([2, 2, 2, 2, 2])"
      ]
     },
     "execution_count": 13,
     "metadata": {},
     "output_type": "execute_result"
    }
   ],
   "source": [
    "np.full(5, 2)\n"
   ]
  },
  {
   "cell_type": "code",
   "execution_count": 14,
   "id": "58fddb89",
   "metadata": {},
   "outputs": [
    {
     "data": {
      "text/plain": [
       "array([1, 2, 3, 4, 5])"
      ]
     },
     "execution_count": 14,
     "metadata": {},
     "output_type": "execute_result"
    }
   ],
   "source": [
    "np.array([1, 2, 3, 4, 5])"
   ]
  },
  {
   "cell_type": "code",
   "execution_count": 11,
   "id": "d233d166",
   "metadata": {},
   "outputs": [
    {
     "data": {
      "text/plain": [
       "array([3.47739925e-081, 6.00599911e-067, 1.34679237e+165, 2.14291146e+160,\n",
       "       3.46797385e+179, 7.56571287e-307])"
      ]
     },
     "execution_count": 11,
     "metadata": {},
     "output_type": "execute_result"
    }
   ],
   "source": [
    "np.empty(6)"
   ]
  },
  {
   "cell_type": "code",
   "execution_count": 16,
   "id": "daac2cd8",
   "metadata": {},
   "outputs": [
    {
     "data": {
      "text/plain": [
       "array([3, 4, 5, 6, 7, 8, 9])"
      ]
     },
     "execution_count": 16,
     "metadata": {},
     "output_type": "execute_result"
    }
   ],
   "source": [
    "np.arange(3,10)"
   ]
  },
  {
   "cell_type": "code",
   "execution_count": 19,
   "id": "66d3eb0b",
   "metadata": {},
   "outputs": [
    {
     "data": {
      "text/plain": [
       "7"
      ]
     },
     "execution_count": 19,
     "metadata": {},
     "output_type": "execute_result"
    }
   ],
   "source": [
    "np.random.randint(0, 10)"
   ]
  },
  {
   "cell_type": "code",
   "execution_count": 21,
   "id": "11346042",
   "metadata": {},
   "outputs": [
    {
     "data": {
      "text/plain": [
       "array([1, 3, 5, 7, 9])"
      ]
     },
     "execution_count": 21,
     "metadata": {},
     "output_type": "execute_result"
    }
   ],
   "source": [
    "np.arange(1, 10, 2)"
   ]
  },
  {
   "cell_type": "code",
   "execution_count": 23,
   "id": "c45dcbdf",
   "metadata": {},
   "outputs": [
    {
     "data": {
      "text/plain": [
       "array([2, 4, 6, 8])"
      ]
     },
     "execution_count": 23,
     "metadata": {},
     "output_type": "execute_result"
    }
   ],
   "source": [
    "np.arange(2, 10, 2)"
   ]
  },
  {
   "cell_type": "code",
   "execution_count": 26,
   "id": "18b2054e",
   "metadata": {},
   "outputs": [
    {
     "data": {
      "text/plain": [
       "array([ 3,  6,  9, 12, 15, 18, 21, 24, 27, 30])"
      ]
     },
     "execution_count": 26,
     "metadata": {},
     "output_type": "execute_result"
    }
   ],
   "source": [
    "np.arange(3, 31, 3)"
   ]
  },
  {
   "cell_type": "code",
   "execution_count": 36,
   "id": "089908ae",
   "metadata": {},
   "outputs": [
    {
     "data": {
      "text/plain": [
       "array([  0.,  25.,  50.,  75., 100.])"
      ]
     },
     "execution_count": 36,
     "metadata": {},
     "output_type": "execute_result"
    }
   ],
   "source": [
    "# create an array with evenly spaced numbers within a specified range\n",
    "np.linspace(0,100,5)"
   ]
  },
  {
   "cell_type": "code",
   "execution_count": 42,
   "id": "5e2550da",
   "metadata": {},
   "outputs": [
    {
     "name": "stdout",
     "output_type": "stream",
     "text": [
      "nan\n",
      "inf\n",
      "nan\n",
      "-inf\n"
     ]
    },
    {
     "name": "stderr",
     "output_type": "stream",
     "text": [
      "C:\\Users\\scile\\AppData\\Local\\Temp\\ipykernel_16124\\3049807113.py:4: RuntimeWarning: invalid value encountered in sqrt\n",
      "  print(np.sqrt(-1))\n",
      "C:\\Users\\scile\\AppData\\Local\\Temp\\ipykernel_16124\\3049807113.py:5: RuntimeWarning: divide by zero encountered in log\n",
      "  print(np.log(0))\n"
     ]
    }
   ],
   "source": [
    "print(np.nan)\n",
    "print(np.inf)\n",
    "\n",
    "print(np.sqrt(-1))\n",
    "print(np.log(0))"
   ]
  },
  {
   "cell_type": "code",
   "execution_count": 43,
   "id": "02c19088",
   "metadata": {},
   "outputs": [
    {
     "data": {
      "text/plain": [
       "array([[0., 0., 0.],\n",
       "       [0., 0., 0.],\n",
       "       [0., 0., 0.]])"
      ]
     },
     "execution_count": 43,
     "metadata": {},
     "output_type": "execute_result"
    }
   ],
   "source": [
    "# Multidimentional array\n",
    "# Create a 3*3 matrix with all elements zeros \n",
    "np.zeros([3,3])"
   ]
  },
  {
   "cell_type": "code",
   "execution_count": 44,
   "id": "7db5129f",
   "metadata": {},
   "outputs": [
    {
     "data": {
      "text/plain": [
       "array([[1., 1., 1., 1., 1.],\n",
       "       [1., 1., 1., 1., 1.],\n",
       "       [1., 1., 1., 1., 1.],\n",
       "       [1., 1., 1., 1., 1.],\n",
       "       [1., 1., 1., 1., 1.]])"
      ]
     },
     "execution_count": 44,
     "metadata": {},
     "output_type": "execute_result"
    }
   ],
   "source": [
    "np.ones([5,5])"
   ]
  },
  {
   "cell_type": "code",
   "execution_count": 68,
   "id": "6c5a5f9e",
   "metadata": {},
   "outputs": [
    {
     "name": "stdout",
     "output_type": "stream",
     "text": [
      "[[ 2  4  6]\n",
      " [ 8 10 12]\n",
      " [14 16 18]]\n",
      "(3, 3)\n",
      "2\n",
      "9\n",
      "int64\n",
      "[[ 2  8 14]\n",
      " [ 4 10 16]\n",
      " [ 6 12 18]]\n"
     ]
    },
    {
     "data": {
      "text/plain": [
       "array([[ 2,  8, 14],\n",
       "       [ 4, 10, 16],\n",
       "       [ 6, 12, 18]])"
      ]
     },
     "execution_count": 68,
     "metadata": {},
     "output_type": "execute_result"
    }
   ],
   "source": [
    "\n",
    "arr = np.array([[2, 4, 6], [8, 10, 12], [14, 16, 18]])\n",
    "print(arr)\n",
    "print(arr.shape)\n",
    "print(arr.ndim)\n",
    "print(arr.size)\n",
    "print(arr.dtype)\n",
    "print(arr.T)\n",
    "# or \n",
    "arr.transpose()\n",
    "\n"
   ]
  },
  {
   "cell_type": "code",
   "execution_count": 69,
   "id": "1fd7c251",
   "metadata": {},
   "outputs": [
    {
     "name": "stdout",
     "output_type": "stream",
     "text": [
      "[['prakash' 'pathak' 'hello']]\n",
      "<U7\n"
     ]
    }
   ],
   "source": [
    "\n",
    "arr = np.array([[\"prakash\", \"pathak\", \"hello\"]])\n",
    "print(arr)\n",
    "print(arr.dtype)\n"
   ]
  },
  {
   "cell_type": "code",
   "execution_count": null,
   "id": "55528a6f",
   "metadata": {},
   "outputs": [
    {
     "name": "stdout",
     "output_type": "stream",
     "text": [
      "Original array:\n",
      "[[1 2 3]\n",
      " [4 5 6]\n",
      " [7 8 9]]\n",
      "\n",
      "Modified array:\n",
      "[[ 1 20  3]\n",
      " [ 4  5  6]\n",
      " [ 7  8  9]]\n",
      "\n",
      "Modify\n",
      "[[ 1 20  3]\n",
      " [ 4  5  6]\n",
      " [ 1  1  1]]\n",
      "\n",
      "Modify\n",
      "[[ 1 20  2]\n",
      " [ 4  5  2]\n",
      " [ 1  1  2]]\n"
     ]
    }
   ],
   "source": [
    "# Create a multidimentional array with different elements\n",
    "# Create the array\n",
    "arr = np.array([[1, 2, 3], [4, 5, 6], [7, 8, 9]])\n",
    "print(\"Original array:\")\n",
    "print(arr)\n",
    "\n",
    "# Replace 2 with 20\n",
    "arr[0][1] = 20\n",
    "\n",
    "print(\"\\nModified array:\")\n",
    "print(arr)\n",
    "# replace last row with 1\n",
    "print(\"\\nModify\")\n",
    "arr[2: ] = 1\n",
    "print(arr)\n",
    "\n",
    "# replace column 3 with 2\n",
    "print(\"\\nModify\")\n",
    "# arr[:,2] =2\n",
    "arr[0:,2] =2\n",
    "print(arr)\n"
   ]
  },
  {
   "cell_type": "code",
   "execution_count": null,
   "id": "ddd960be",
   "metadata": {},
   "outputs": [
    {
     "name": "stdout",
     "output_type": "stream",
     "text": [
      "[[10 10 10]\n",
      " [10 10 10]\n",
      " [10 10 10]]\n"
     ]
    }
   ],
   "source": [
    "# create a matrix 3*3 with all elements 10\n",
    "arr = np.full((3, 3), 10)\n",
    "print(arr)"
   ]
  },
  {
   "cell_type": "code",
   "execution_count": 5,
   "id": "21f6eaf6",
   "metadata": {},
   "outputs": [
    {
     "name": "stdout",
     "output_type": "stream",
     "text": [
      "[51 92 14 71 60]\n"
     ]
    }
   ],
   "source": [
    "np.random.seed(42)\n",
    "print(np.random.randint(0, 100, size=5))"
   ]
  },
  {
   "cell_type": "markdown",
   "id": "717af45b",
   "metadata": {},
   "source": [
    "# Day 13 NumPy"
   ]
  },
  {
   "cell_type": "markdown",
   "id": "2dd6163d",
   "metadata": {},
   "source": [
    "# Randomly generated arrays\n",
    "* Numpy can cteate arrays filled with random numbers\n",
    "* To ensure the reproductibility, you can seed using np.random.seed()\n",
    "* It will generate the exact same random number for each executions.\n",
    "* If you remove or change the seed values, the sequence of random numbers will be changed"
   ]
  },
  {
   "cell_type": "code",
   "execution_count": 86,
   "id": "8337a6c6",
   "metadata": {},
   "outputs": [
    {
     "data": {
      "text/plain": [
       "0"
      ]
     },
     "execution_count": 86,
     "metadata": {},
     "output_type": "execute_result"
    }
   ],
   "source": [
    "import numpy as np\n",
    "# np.random.seed(42)\n",
    "np.random.rand(5)\n",
    "np.random.randint(5)\n"
   ]
  },
  {
   "cell_type": "code",
   "execution_count": 90,
   "id": "1f95cf0c",
   "metadata": {},
   "outputs": [
    {
     "data": {
      "text/plain": [
       "array([[ 0.45293633, -0.16606091,  0.21493883, -2.02231493],\n",
       "       [-0.94305681,  1.40395874, -0.0185508 , -1.67350462],\n",
       "       [-1.07253183, -0.99258618,  0.10234768, -0.43260928],\n",
       "       [-0.6591823 ,  0.0039373 ,  0.4777541 , -0.25902864],\n",
       "       [-0.57470921, -0.42149822,  0.33982096, -0.00738015]])"
      ]
     },
     "execution_count": 90,
     "metadata": {},
     "output_type": "execute_result"
    }
   ],
   "source": [
    "# create random matrix with normal distribution\n",
    "np.random.randn(5, 4)"
   ]
  },
  {
   "cell_type": "code",
   "execution_count": null,
   "id": "bb86a751",
   "metadata": {},
   "outputs": [
    {
     "data": {
      "text/plain": [
       "array([[ 2, 19],\n",
       "       [58, 35],\n",
       "       [18, 89],\n",
       "       [66, 18],\n",
       "       [19, 95]], dtype=int32)"
      ]
     },
     "execution_count": 93,
     "metadata": {},
     "output_type": "execute_result"
    }
   ],
   "source": [
    "# create a matrix with random integers\n",
    "np.random.randint(low=0, high=100, size=(5,2))"
   ]
  },
  {
   "cell_type": "code",
   "execution_count": 152,
   "id": "2a874d09",
   "metadata": {},
   "outputs": [
    {
     "data": {
      "text/plain": [
       "array([[ 2,  3,  0],\n",
       "       [17, 17,  1],\n",
       "       [ 4, 15,  4]], dtype=int32)"
      ]
     },
     "execution_count": 152,
     "metadata": {},
     "output_type": "execute_result"
    }
   ],
   "source": [
    "# create a matrix with random integers\n",
    "np.random.seed(24)\n",
    "np.random.randint(low=0, high=20, size=(3,3))"
   ]
  },
  {
   "cell_type": "code",
   "execution_count": 153,
   "id": "5a7969f4",
   "metadata": {},
   "outputs": [
    {
     "data": {
      "text/plain": [
       "array([[ 3, 15,  9],\n",
       "       [11,  7,  2],\n",
       "       [ 0,  8, 19]], dtype=int32)"
      ]
     },
     "execution_count": 153,
     "metadata": {},
     "output_type": "execute_result"
    }
   ],
   "source": [
    "# create a matrix with random integers\n",
    "np.random.seed(20)\n",
    "np.random.randint(low=0, high=20, size=(3,3))"
   ]
  },
  {
   "cell_type": "code",
   "execution_count": 174,
   "id": "af5d8fa5",
   "metadata": {},
   "outputs": [
    {
     "name": "stdout",
     "output_type": "stream",
     "text": [
      "[ 1  2  3  4  5  6  7  8  9 10 11 12 13 14 15 16 17 18 19 20]\n",
      "\n",
      "[[ 1  2  3  4  5]\n",
      " [ 6  7  8  9 10]\n",
      " [11 12 13 14 15]\n",
      " [16 17 18 19 20]]\n"
     ]
    }
   ],
   "source": [
    "# create a 1D NumPy array with numbers from 1 to 20, and then reshape it into a 4*5 matrix.\n",
    "\n",
    "# Create a 1D array with numbers from 1 to 20\n",
    "arr = np.arange(1, 21)\n",
    "print(arr)\n",
    "print()\n",
    "\n",
    "# Reshape it into a 4x5 matrix\n",
    "arr = arr.reshape(4, 5)\n",
    "\n",
    "print(arr)\n"
   ]
  },
  {
   "cell_type": "code",
   "execution_count": 190,
   "id": "040a36ec",
   "metadata": {},
   "outputs": [
    {
     "name": "stdout",
     "output_type": "stream",
     "text": [
      "[ 6  7  8  9 10]\n",
      "\n",
      "[ 5 10 15 20]\n",
      "\n",
      "[[ 6  7  8]\n",
      " [11 12 13]]\n",
      "\n",
      "[[ 8  9 10]\n",
      " [13 14 15]]\n",
      "\n",
      "5\n",
      "\n",
      "[[2 3]\n",
      " [7 8]]\n"
     ]
    }
   ],
   "source": [
    "# Fron the matrix create in Question 1, exact: \n",
    "# The second row\n",
    "second_row = arr[1]\n",
    "print(second_row)\n",
    "\n",
    "print()\n",
    "\n",
    "# the last column\n",
    "last_column = arr[:,4]\n",
    "print(last_column)\n",
    "print()\n",
    "\n",
    "# A submatrix containing rows 2 and 3 columns 1 to 3\n",
    "submatrix = arr[1:3, 0:3]\n",
    "print(submatrix)\n",
    "print()\n",
    "\n",
    "sub = arr[1:3, 2:]\n",
    "print(sub)\n",
    "print()\n",
    "\n",
    "collen = len(arr[0])\n",
    "print(collen)\n",
    "print()\n",
    "ar = arr[0:2, 1:3]\n",
    "print(ar)\n",
    "\n"
   ]
  },
  {
   "cell_type": "code",
   "execution_count": null,
   "id": "90d678b5",
   "metadata": {},
   "outputs": [
    {
     "name": "stdout",
     "output_type": "stream",
     "text": [
      "[0 1 2 3 4]\n",
      "[10 12 14 16 18]\n",
      "[10 13 16 19 22]\n",
      "[ 0 12 28 48 72]\n",
      "[0, 1, 2, 3, 4, 0, 1, 2, 3, 4]\n"
     ]
    }
   ],
   "source": [
    "a = np.arange(5)\n",
    "b = (10 + (a*2))\n",
    "print(a)\n",
    "print(b)\n",
    "print(a + b) \n",
    "print(a * b)  # element wise operation not matrix operation\n",
    "\n",
    "mylist = [0, 1, 2, 3, 4]\n",
    "print(mylist*2) \n"
   ]
  },
  {
   "cell_type": "code",
   "execution_count": 202,
   "id": "fcc139d8",
   "metadata": {},
   "outputs": [
    {
     "data": {
      "text/plain": [
       "array([False, False,  True,  True,  True])"
      ]
     },
     "execution_count": 202,
     "metadata": {},
     "output_type": "execute_result"
    }
   ],
   "source": [
    "# comparision operator\n",
    "a == b\n",
    "a>=2"
   ]
  },
  {
   "cell_type": "code",
   "execution_count": 207,
   "id": "55b6a79e",
   "metadata": {},
   "outputs": [
    {
     "name": "stdout",
     "output_type": "stream",
     "text": [
      "1\n",
      "5\n",
      "15\n",
      "3.0\n",
      "1.4142135623730951\n",
      "2.0\n",
      "[ 1  3  6 10 15]\n",
      "[  1   2   6  24 120]\n"
     ]
    }
   ],
   "source": [
    "# summarizing of the data \n",
    "# numpy provides function for sumarizing array data\n",
    "a = np.array([1,2,3,4,5])\n",
    "print(a.min())\n",
    "print(a.max())\n",
    "print(a.sum())\n",
    "print(a.mean())\n",
    "print(a.std())\n",
    "print(a.var())\n",
    "print(a.cumsum())\n",
    "print(a.cumprod())\n",
    "\n"
   ]
  },
  {
   "cell_type": "code",
   "execution_count": 3,
   "id": "6e4b9b06",
   "metadata": {},
   "outputs": [
    {
     "name": "stdout",
     "output_type": "stream",
     "text": [
      "Addition: [ 3  7 11 15]\n",
      "Multiplication: [ 2 12 30 56]\n",
      "Original array: [80 38 31 68 59 12 13 58 37 79 36 55 67 82 51]\n",
      "Values greater than 50: [80 68 59 58 79 55 67 82 51]\n",
      "\n",
      "[80 38 68 12 58 36 82]\n"
     ]
    }
   ],
   "source": [
    "# Class assignment\n",
    "# 1. Perform element-wise addition, multiplication of arrays a = [2, 4, 6, 8] and b = [1, 3, 5, 7]\n",
    "import numpy as np\n",
    "a = np.array([2, 4, 6, 8])\n",
    "b = np.array([1, 3, 5, 7])\n",
    "\n",
    "# Element-wise addition\n",
    "add_result = a + b\n",
    "\n",
    "# Element-wise multiplication\n",
    "mul_result = a * b\n",
    "\n",
    "print(\"Addition:\", add_result)\n",
    "print(\"Multiplication:\", mul_result)\n",
    "\n",
    "# 2. Generate an array of 15 random integers (10 - 100) and print values greater than 50.\n",
    "import numpy as np\n",
    "\n",
    "# Generate array of 15 random integers from 10 to 100 (inclusive)\n",
    "arr = np.random.randint(10, 101, 15)\n",
    "\n",
    "# Print the original array\n",
    "print(\"Original array:\", arr)\n",
    "\n",
    "# Filter and print values greater than 50\n",
    "greater_than_50 = arr[arr > 50]\n",
    "print(\"Values greater than 50:\", greater_than_50)\n",
    "print()\n",
    "even_arr = arr[arr%2==0]\n",
    "print(even_arr)\n",
    "\n"
   ]
  }
 ],
 "metadata": {
  "kernelspec": {
   "display_name": ".venv",
   "language": "python",
   "name": "python3"
  },
  "language_info": {
   "codemirror_mode": {
    "name": "ipython",
    "version": 3
   },
   "file_extension": ".py",
   "mimetype": "text/x-python",
   "name": "python",
   "nbconvert_exporter": "python",
   "pygments_lexer": "ipython3",
   "version": "3.13.2"
  }
 },
 "nbformat": 4,
 "nbformat_minor": 5
}
