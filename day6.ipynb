{
 "cells": [
  {
   "cell_type": "markdown",
   "metadata": {},
   "source": [
    "# Tupples\n"
   ]
  },
  {
   "cell_type": "code",
   "execution_count": 14,
   "metadata": {},
   "outputs": [
    {
     "name": "stdout",
     "output_type": "stream",
     "text": [
      "('MIS', 'Computer Networks', 'CGA', 'Management', 'DotNet', 'Python')\n",
      "\n",
      "('MIS', 'Computer Networks', 'CGA', 'Management', 'DotNet', 'Java')\n",
      "\n",
      "('CGA', 'Computer Networks', 'CGA', 'Management', 'DotNet', 'Java')\n",
      "6\n"
     ]
    },
    {
     "data": {
      "text/plain": [
       "1"
      ]
     },
     "execution_count": 14,
     "metadata": {},
     "output_type": "execute_result"
    }
   ],
   "source": [
    "subjects = ('MIS', 'Computer Networks', 'CGA', 'Management', 'DotNet', 'Python')\n",
    "print(subjects)\n",
    "print()\n",
    "# Convert to list, modify, and convert back to tuple\n",
    "subjects_list = list(subjects)\n",
    "subjects_list[subjects_list.index('Python')] = 'Java'\n",
    "subjects = tuple(subjects_list)\n",
    "\n",
    "print(subjects)\n",
    "print()\n",
    "subj = list(subjects)\n",
    "subj[0] = 'CGA'\n",
    "print(tuple(subj))\n",
    "count = len(subjects)\n",
    "print(count)\n",
    "subjects.count(\"CGA\")"
   ]
  },
  {
   "cell_type": "code",
   "execution_count": 23,
   "metadata": {},
   "outputs": [
    {
     "name": "stdout",
     "output_type": "stream",
     "text": [
      "(1, 2, 3, 4, 5, 3)\n",
      "\n",
      "(1, 2, 3, 1, 2, 3, 1, 2, 3)\n"
     ]
    }
   ],
   "source": [
    "a = (1, 2, 3)\n",
    "b = (4, 5, 3)\n",
    "add = a + b\n",
    "print(add)\n",
    "print()\n",
    "c = a * 3\n",
    "print(c)"
   ]
  },
  {
   "cell_type": "markdown",
   "metadata": {},
   "source": [
    "# SET"
   ]
  },
  {
   "cell_type": "code",
   "execution_count": 37,
   "metadata": {},
   "outputs": [
    {
     "name": "stdout",
     "output_type": "stream",
     "text": [
      "<class 'set'>\n",
      "<class 'dict'>\n",
      "set()\n"
     ]
    }
   ],
   "source": [
    "set1 = {\"\"}\n",
    "set2 = {}\n",
    "set3 = set()\n",
    "print(type(set1))\n",
    "print(type(set2))\n",
    "print(set3)\n"
   ]
  },
  {
   "cell_type": "code",
   "execution_count": null,
   "metadata": {},
   "outputs": [
    {
     "name": "stdout",
     "output_type": "stream",
     "text": [
      "5\n",
      "{True, 34, 'abc', 40, 'Male'}\n"
     ]
    }
   ],
   "source": [
    "set1 = {\"abc\", 34, True, 40, 40, 40, \"Male\"}\n",
    "print(len(set1))\n",
    "print(set1)\n"
   ]
  },
  {
   "cell_type": "code",
   "execution_count": 1,
   "metadata": {},
   "outputs": [
    {
     "name": "stdout",
     "output_type": "stream",
     "text": [
      "{1, 2, 3, 4}\n",
      "{1, 3, 4}\n",
      "{1, 3, 4}\n"
     ]
    }
   ],
   "source": [
    "a = {1,2,3}\n",
    "a.add(4)\n",
    "print(a)\n",
    "# remove does throw an error if removing item doesnot exist\n",
    "a.remove(2)\n",
    "print(a)\n",
    "# discasrd does not throw an error even removing item doesnot exist\n",
    "a.discard(100)\n",
    "print(a)\n",
    "\n"
   ]
  },
  {
   "cell_type": "markdown",
   "metadata": {},
   "source": [
    "# Disctionary"
   ]
  },
  {
   "cell_type": "code",
   "execution_count": 26,
   "metadata": {},
   "outputs": [
    {
     "name": "stdout",
     "output_type": "stream",
     "text": [
      "hari has scored 90\n",
      "shyam has scored 80\n",
      "sita has scored 70\n"
     ]
    }
   ],
   "source": [
    "marks = {\n",
    "    'hari': 90,\n",
    "    'shyam': 80,\n",
    "    'sita': 70\n",
    "}\n",
    "# print(marks)\n",
    "# print(type(marks))\n",
    "# print(marks['hari'])\n",
    "# print(marks.values())\n",
    "# print(marks.items())\n",
    "for name, marks in marks.items(): \n",
    "    print(f\"{name} has scored {marks}\") "
   ]
  },
  {
   "cell_type": "code",
   "execution_count": 4,
   "metadata": {},
   "outputs": [
    {
     "name": "stdout",
     "output_type": "stream",
     "text": [
      "Ram\n",
      "5\n",
      "{True, 34, 40, 'abc', 'Male'}\n"
     ]
    }
   ],
   "source": [
    "st1 = {\n",
    "    'name': 'Ram',\n",
    "    'age': 30,\n",
    "    'faculty': 'BCA'\n",
    "}\n",
    "st2 = {\n",
    "    'name': 'Hari',\n",
    "    'age': 20,\n",
    "    'faculty': 'CSIT'\n",
    "}\n",
    "students = {\n",
    "    101: st1,\n",
    "    102: st2,\n",
    "}\n",
    "print(students[101]['name'])\n",
    "\n"
   ]
  }
 ],
 "metadata": {
  "kernelspec": {
   "display_name": ".venv",
   "language": "python",
   "name": "python3"
  },
  "language_info": {
   "codemirror_mode": {
    "name": "ipython",
    "version": 3
   },
   "file_extension": ".py",
   "mimetype": "text/x-python",
   "name": "python",
   "nbconvert_exporter": "python",
   "pygments_lexer": "ipython3",
   "version": "3.13.2"
  }
 },
 "nbformat": 4,
 "nbformat_minor": 2
}
