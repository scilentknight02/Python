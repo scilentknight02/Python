{
 "cells": [
  {
   "cell_type": "markdown",
   "metadata": {},
   "source": [
    "# Fabonacci Series Upto 100"
   ]
  },
  {
   "cell_type": "code",
   "execution_count": 8,
   "metadata": {},
   "outputs": [
    {
     "name": "stdout",
     "output_type": "stream",
     "text": [
      "0 1, 1 2, 2 4, 4 8, 8 16, 16 32, 32 64, "
     ]
    }
   ],
   "source": [
    "a = 0\n",
    "b = 1\n",
    "while b < 100:\n",
    "    print(a, b, end=', ')\n",
    "    a = b\n",
    "    b = a + b"
   ]
  },
  {
   "cell_type": "markdown",
   "metadata": {},
   "source": [
    "# Ask User input for a character and return if it's a consonant and vowel along with its cale [upper or lower]"
   ]
  },
  {
   "cell_type": "code",
   "execution_count": 4,
   "metadata": {},
   "outputs": [
    {
     "name": "stdout",
     "output_type": "stream",
     "text": [
      "Consonant\n"
     ]
    }
   ],
   "source": [
    "x = input(\"Enter a character: \")\n",
    "v = ['a', 'e', 'i', 'o', 'u', 'A', 'E', 'I', 'O', 'U']\n",
    "if x in v:\n",
    "    print(\"Vowel\")  \n",
    "else:\n",
    "    print(\"Consonant\")  \n",
    "    "
   ]
  },
  {
   "cell_type": "markdown",
   "metadata": {},
   "source": [
    "# Build a number guessing game that gives 3 retries"
   ]
  },
  {
   "cell_type": "code",
   "execution_count": 6,
   "metadata": {},
   "outputs": [
    {
     "name": "stdout",
     "output_type": "stream",
     "text": [
      "No, it is lower than 50\n"
     ]
    }
   ],
   "source": [
    "import random\n",
    "number = random.randint(1, 10)\n",
    "guess = int(input(\"Enter an integer: \"))\n",
    "if guess == number:\n",
    "    print(\"Congratulations! You guessed it correctly.\")\n",
    "elif guess < number:\n",
    "    print(f\"No, it is higher than {guess}\")\n",
    "else:\n",
    "    print(f\"No, it is lower than {guess}\")\n",
    "\n",
    "\n"
   ]
  },
  {
   "cell_type": "code",
   "execution_count": null,
   "metadata": {},
   "outputs": [],
   "source": [
    "import random\n",
    "random*10+1"
   ]
  }
 ],
 "metadata": {
  "kernelspec": {
   "display_name": ".venv",
   "language": "python",
   "name": "python3"
  },
  "language_info": {
   "codemirror_mode": {
    "name": "ipython",
    "version": 3
   },
   "file_extension": ".py",
   "mimetype": "text/x-python",
   "name": "python",
   "nbconvert_exporter": "python",
   "pygments_lexer": "ipython3",
   "version": "3.13.2"
  }
 },
 "nbformat": 4,
 "nbformat_minor": 2
}
