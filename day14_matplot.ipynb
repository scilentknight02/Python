{
 "cells": [
  {
   "cell_type": "markdown",
   "id": "e3c6cca7",
   "metadata": {},
   "source": [
    "## Wednesday Task"
   ]
  },
  {
   "cell_type": "markdown",
   "id": "7ca5e995",
   "metadata": {},
   "source": [
    "* Matplotlib\n",
    "    * subplot\n",
    "    * display all the chart in same figure"
   ]
  }
 ],
 "metadata": {
  "language_info": {
   "name": "python"
  }
 },
 "nbformat": 4,
 "nbformat_minor": 5
}
